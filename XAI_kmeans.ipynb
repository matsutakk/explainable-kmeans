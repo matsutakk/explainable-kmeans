{
 "cells": [
  {
   "cell_type": "markdown",
   "metadata": {},
   "source": [
    "<br><br>\n",
    "# Explainable k-means"
   ]
  },
  {
   "cell_type": "code",
   "execution_count": 1,
   "metadata": {},
   "outputs": [],
   "source": [
    "import numpy as np\n",
    "import pandas as pd\n",
    "from sklearn.cluster import KMeans"
   ]
  },
  {
   "cell_type": "markdown",
   "metadata": {},
   "source": [
    "## Define funcs\n",
    "I did not create Class of their algorithm, so this is a little experiment for me."
   ]
  },
  {
   "cell_type": "code",
   "execution_count": 2,
   "metadata": {},
   "outputs": [],
   "source": [
    "#ソートと動的計画法によって，最適な分割を求める\n",
    "def optimal_threshold_2means(X):\n",
    "    bests_split = {'cost':np.inf,'coordinate':None,'threshold':None}\n",
    "    data_num = X.shape[0]\n",
    "    data_dimentions = X.shape[1]\n",
    "    u = np.sum(X*X)\n",
    "    \n",
    "    for i in range(data_dimentions):\n",
    "        s = np.zeros(data_dimentions)\n",
    "        r = np.sum(X,axis=0)\n",
    "        ith_sorted_X = X[X[:,i].argsort(), :]\n",
    "        for j,data in enumerate(X[:-1]):\n",
    "            s += data\n",
    "            r -= data\n",
    "            cost = u - np.sum(s*s)/(j+1) -np.sum(r*r)/(data_num-j-1)\n",
    "            #print(cost)\n",
    "            if cost < bests_split['cost'] and X[j][i]!=X[j+1][i]:\n",
    "                bests_split['cost'] = cost\n",
    "                bests_split['coordinate'] = i\n",
    "                bests_split['threshold'] = data[i]\n",
    "            \n",
    "    return bests_split\n",
    "\n",
    "#最適な分割に基づいてクラスタリング\n",
    "def clustering_2means_by_tree(bests_split,X):\n",
    "    cluster = np.ones(X.shape[0])\n",
    "    for i,data in enumerate(X):\n",
    "        if(data[bests_split['coordinate']]>bests_split['threshold']):\n",
    "            cluster[i] = 0\n",
    "    return cluster\n",
    "\n",
    "#得られた分割の中心座標を求める\n",
    "def get_mean(X,approx_labels):\n",
    "    res=[]\n",
    "    for k in range(len(np.unique(approx_labels))):\n",
    "        n = 0\n",
    "        mean = np.zeros(X.shape[1])\n",
    "        for i,data in enumerate(X):\n",
    "            if(approx_labels[i]==k):\n",
    "                mean+=data\n",
    "                n+=1\n",
    "        res.append(mean/n)\n",
    "    return np.array(res)\n",
    "\n",
    "#近似の比率を計算する，論文ではkmeansの場合，上界は4である．\n",
    "def approx_score(approx_labels,kmeans_model,X):\n",
    "    kmeans_cost = 0\n",
    "    kmeans_label = kmeans_model.labels_\n",
    "    kmeans_centers = kmeans_model.cluster_centers_\n",
    "    for i,data in enumerate(X):\n",
    "        kmeans_cost += np.sum((data-kmeans_centers[kmeans_label[i]])*(data-kmeans_centers[kmeans_label[i]]))\n",
    "    \n",
    "    approx_cost = 0\n",
    "    mean = get_mean(X,approx_labels)\n",
    "    for k in range(kmeans_model.n_clusters):\n",
    "        for i,data in enumerate(X):\n",
    "            if(approx_labels[i]==k):\n",
    "                approx_cost += np.sum((data-mean[k])*(data-mean[k]))\n",
    "    print(kmeans_cost)\n",
    "    print(approx_cost)\n",
    "    return approx_cost/kmeans_cost"
   ]
  },
  {
   "cell_type": "markdown",
   "metadata": {},
   "source": [
    "## Two Datasets\n",
    "First is from this good article.  \n",
    "Second is from uci repo and I get the code from this good article."
   ]
  },
  {
   "cell_type": "code",
   "execution_count": 4,
   "metadata": {},
   "outputs": [],
   "source": [
    "# First dataset\n",
    "# 生徒の国語・数学・英語の各得点を配列として与える\n",
    "X = np.array([\n",
    "        [  80,  85, 100 ],\n",
    "        [  96, 100, 100 ],\n",
    "        [  54,  83,  98 ],\n",
    "        [  80,  98,  98 ],\n",
    "        [  90,  92,  91 ],\n",
    "        [  84,  78,  82 ],\n",
    "        [  79, 100,  96 ],\n",
    "        [  88,  92,  92 ],\n",
    "        [  98,  73,  72 ],\n",
    "        [  75,  84,  85 ],\n",
    "        [  92, 100,  96 ],\n",
    "        [  96,  92,  90 ],\n",
    "        [  99,  76,  91 ],\n",
    "        [  75,  82,  88 ],\n",
    "        [  90,  94,  94 ],\n",
    "        [  54,  84,  87 ],\n",
    "        [  92,  89,  62 ],\n",
    "        [  88,  94,  97 ],\n",
    "        [  42,  99,  80 ],\n",
    "        [  70,  98,  70 ],\n",
    "        [  94,  78,  83 ],\n",
    "        [  52,  73,  87 ],\n",
    "        [  94,  88,  72 ],\n",
    "        [  70,  73,  80 ],\n",
    "        [  95,  84,  90 ],\n",
    "        [  95,  88,  84 ],\n",
    "        [  75,  97,  89 ],\n",
    "        [  49,  81,  86 ],\n",
    "        [  83,  72,  80 ],\n",
    "        [  75,  73,  88 ],\n",
    "        [  79,  82,  76 ],\n",
    "        [ 100,  77,  89 ],\n",
    "        [  88,  63,  79 ],\n",
    "        [ 100,  50,  86 ],\n",
    "        [  55,  96,  84 ],\n",
    "        [  92,  74,  77 ],\n",
    "        [  97,  50,  73 ],\n",
    "        ])"
   ]
  },
  {
   "cell_type": "code",
   "execution_count": 5,
   "metadata": {},
   "outputs": [
    {
     "data": {
      "text/plain": [
       "(440, 7)"
      ]
     },
     "execution_count": 5,
     "metadata": {},
     "output_type": "execute_result"
    }
   ],
   "source": [
    "#second is from uci\n",
    "cust_df = pd.read_csv(\"http://pythondatascience.plavox.info/wp-content/uploads/2016/05/Wholesale_customers_data.csv\")\n",
    "del(cust_df['Channel'])\n",
    "del(cust_df['Region'])\n",
    "cust_array = np.array([cust_df['Fresh'].tolist(),\n",
    "                       cust_df['Milk'].tolist(),\n",
    "                       cust_df['Grocery'].tolist(),\n",
    "                       cust_df['Frozen'].tolist(),\n",
    "                       cust_df['Milk'].tolist(),\n",
    "                       cust_df['Detergents_Paper'].tolist(),\n",
    "                       cust_df['Delicassen'].tolist()\n",
    "                       ], np.int32)\n",
    "cust_array = cust_array.T\n",
    "cust_array.shape"
   ]
  },
  {
   "cell_type": "markdown",
   "metadata": {},
   "source": [
    "## First data and k=2 "
   ]
  },
  {
   "cell_type": "code",
   "execution_count": 9,
   "metadata": {},
   "outputs": [
    {
     "name": "stdout",
     "output_type": "stream",
     "text": [
      "{'cost': 15800.027777777781, 'coordinate': 0, 'threshold': 49}\n",
      "[0. 0. 0. 0. 0. 0. 0. 0. 0. 0. 0. 0. 0. 0. 0. 0. 0. 0. 1. 0. 0. 0. 0. 0.\n",
      " 0. 0. 0. 1. 0. 0. 0. 0. 0. 0. 0. 0. 0.]\n"
     ]
    }
   ],
   "source": [
    "#K-meansクラスタリングをおこなう\n",
    "kmeans_model = KMeans(n_clusters=2, random_state=10).fit(X)\n",
    "#分類先となったラベルを取得する\n",
    "labels = kmeans_model.labels_\n",
    "\n",
    "#提案手法による近似アルゴリズムで取得する\n",
    "bests_split = optimal_threshold_2means(X)\n",
    "approx_labels = clustering_2means_by_tree(bests_split,X)\n",
    "print(bests_split)\n",
    "print(approx_labels)"
   ]
  },
  {
   "cell_type": "code",
   "execution_count": 10,
   "metadata": {},
   "outputs": [
    {
     "name": "stdout",
     "output_type": "stream",
     "text": [
      "11316.030172413793\n",
      "15320.328571428567\n"
     ]
    },
    {
     "data": {
      "text/plain": [
       "1.3538607036217036"
      ]
     },
     "execution_count": 10,
     "metadata": {},
     "output_type": "execute_result"
    }
   ],
   "source": [
    "approx_score(approx_labels,kmeans_model,X) #近似アルゴリズムのコスト ➗ k-meansのコスト"
   ]
  },
  {
   "cell_type": "markdown",
   "metadata": {},
   "source": [
    "## Second data and k=2"
   ]
  },
  {
   "cell_type": "code",
   "execution_count": 6,
   "metadata": {},
   "outputs": [
    {
     "name": "stdout",
     "output_type": "stream",
     "text": [
      "{'cost': 82634911605.12671, 'coordinate': 0, 'threshold': 9198}\n"
     ]
    }
   ],
   "source": [
    "#K-meansクラスタリングをおこなう\n",
    "kmeans_model = KMeans(n_clusters=2, random_state=10).fit(cust_array)\n",
    "#分類先となったラベルを取得する\n",
    "labels = kmeans_model.labels_\n",
    "\n",
    "#提案手法による近似アルゴリズムで取得する\n",
    "bests_split = optimal_threshold_2means(cust_array)\n",
    "approx_labels = clustering_2means_by_tree(bests_split,cust_array)\n",
    "print(bests_split)"
   ]
  },
  {
   "cell_type": "code",
   "execution_count": 7,
   "metadata": {},
   "outputs": [
    {
     "name": "stdout",
     "output_type": "stream",
     "text": [
      "132340344661.33641\n",
      "147714287599.63416\n"
     ]
    },
    {
     "data": {
      "text/plain": [
       "1.116169736278383"
      ]
     },
     "execution_count": 7,
     "metadata": {},
     "output_type": "execute_result"
    }
   ],
   "source": [
    "approx_score(approx_labels,kmeans_model,cust_array) #近似アルゴリズムのコスト ➗ k-meansのコスト"
   ]
  },
  {
   "cell_type": "markdown",
   "metadata": {},
   "source": [
    "<br><br>\n",
    "## IMM Algorithm\n",
    "I'm working on this...."
   ]
  },
  {
   "cell_type": "code",
   "execution_count": 11,
   "metadata": {},
   "outputs": [],
   "source": [
    "class TreeNode:\n",
    "    def __init__(self, val=0, left=None, right=None,condition=None):\n",
    "        self.val = val\n",
    "        self.left = left\n",
    "        self.right = right\n",
    "        self.condition = (0,0)"
   ]
  },
  {
   "cell_type": "code",
   "execution_count": 12,
   "metadata": {},
   "outputs": [
    {
     "ename": "IndentationError",
     "evalue": "expected an indented block (<ipython-input-12-f4c1a8ed870b>, line 3)",
     "output_type": "error",
     "traceback": [
      "\u001b[0;36m  File \u001b[0;32m\"<ipython-input-12-f4c1a8ed870b>\"\u001b[0;36m, line \u001b[0;32m3\u001b[0m\n\u001b[0;31m    def build_tree(X,labels,centers):\u001b[0m\n\u001b[0m      ^\u001b[0m\n\u001b[0;31mIndentationError\u001b[0m\u001b[0;31m:\u001b[0m expected an indented block\n"
     ]
    }
   ],
   "source": [
    "def mistake():\n",
    "    \n",
    "def build_tree(X,labels,centers):\n",
    "    node = TreeNode()\n",
    "    if(len(np.unique(labels))==1):\n",
    "        node.val = labels[-1]\n",
    "        return node\n",
    "    \n",
    "    l=[]\n",
    "    r=[]\n",
    "    for i in enumerate(centers):\n",
    "        \n",
    "    \n",
    "    node.condition = (i,threshold)\n",
    "    node.left = build_tree()\n",
    "    node.right = build_tree()\n",
    "    return node"
   ]
  },
  {
   "cell_type": "code",
   "execution_count": 13,
   "metadata": {},
   "outputs": [
    {
     "ename": "NameError",
     "evalue": "name 'features' is not defined",
     "output_type": "error",
     "traceback": [
      "\u001b[0;31m-------------------------------\u001b[0m",
      "\u001b[0;31mNameError\u001b[0mTraceback (most recent call last)",
      "\u001b[0;32m<ipython-input-13-462714ed9343>\u001b[0m in \u001b[0;36m<module>\u001b[0;34m\u001b[0m\n\u001b[1;32m      1\u001b[0m \u001b[0;31m#IMM procedure\u001b[0m\u001b[0;34m\u001b[0m\u001b[0;34m\u001b[0m\u001b[0;34m\u001b[0m\u001b[0m\n\u001b[0;32m----> 2\u001b[0;31m \u001b[0mkmeans_model\u001b[0m \u001b[0;34m=\u001b[0m \u001b[0mKMeans\u001b[0m\u001b[0;34m(\u001b[0m\u001b[0mn_clusters\u001b[0m\u001b[0;34m=\u001b[0m\u001b[0;36m3\u001b[0m\u001b[0;34m,\u001b[0m \u001b[0mrandom_state\u001b[0m\u001b[0;34m=\u001b[0m\u001b[0;36m10\u001b[0m\u001b[0;34m)\u001b[0m\u001b[0;34m.\u001b[0m\u001b[0mfit\u001b[0m\u001b[0;34m(\u001b[0m\u001b[0mfeatures\u001b[0m\u001b[0;34m)\u001b[0m\u001b[0;34m\u001b[0m\u001b[0;34m\u001b[0m\u001b[0m\n\u001b[0m\u001b[1;32m      3\u001b[0m \u001b[0mcenters\u001b[0m \u001b[0;34m=\u001b[0m \u001b[0mkmeans_model\u001b[0m\u001b[0;34m.\u001b[0m\u001b[0mcluster_centers_\u001b[0m\u001b[0;34m\u001b[0m\u001b[0;34m\u001b[0m\u001b[0m\n\u001b[1;32m      4\u001b[0m \u001b[0mlabels\u001b[0m \u001b[0;34m=\u001b[0m \u001b[0mkmeans_model\u001b[0m\u001b[0;34m.\u001b[0m\u001b[0mlabels_\u001b[0m\u001b[0;34m\u001b[0m\u001b[0;34m\u001b[0m\u001b[0m\n\u001b[1;32m      5\u001b[0m \u001b[0;34m\u001b[0m\u001b[0m\n",
      "\u001b[0;31mNameError\u001b[0m: name 'features' is not defined"
     ]
    }
   ],
   "source": [
    "#IMM procedure\n",
    "kmeans_model = KMeans(n_clusters=3, random_state=10).fit(features)\n",
    "centers = kmeans_model.cluster_centers_\n",
    "labels = kmeans_model.labels_\n",
    "\n",
    "build_tree(X,labels,centers)"
   ]
  }
 ],
 "metadata": {
  "kernelspec": {
   "display_name": "Python 3",
   "language": "python",
   "name": "python3"
  },
  "language_info": {
   "codemirror_mode": {
    "name": "ipython",
    "version": 3
   },
   "file_extension": ".py",
   "mimetype": "text/x-python",
   "name": "python",
   "nbconvert_exporter": "python",
   "pygments_lexer": "ipython3",
   "version": "3.7.6"
  }
 },
 "nbformat": 4,
 "nbformat_minor": 4
}
