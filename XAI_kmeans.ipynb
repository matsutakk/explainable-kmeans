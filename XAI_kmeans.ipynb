{
 "cells": [
  {
   "cell_type": "markdown",
   "metadata": {},
   "source": [
    "<br><br>\n",
    "# Explainable k-means"
   ]
  },
  {
   "cell_type": "code",
   "execution_count": 2,
   "metadata": {},
   "outputs": [],
   "source": [
    "import numpy as np\n",
    "import pandas as pd\n",
    "from sklearn.cluster import KMeans"
   ]
  },
  {
   "cell_type": "markdown",
   "metadata": {},
   "source": [
    "<br><br>\n",
    "## Define funcs\n",
    "I did not create Class of their algorithm, so this is a little experiment for me."
   ]
  },
  {
   "cell_type": "code",
   "execution_count": 3,
   "metadata": {},
   "outputs": [],
   "source": [
    "#ソートと動的計画法によって，最適な分割を求める (k=2)\n",
    "#this func is main func and get best split condition using sort and dynamic programming\n",
    "def optimal_threshold_2means(X):\n",
    "    bests_split = {'cost':np.inf,'coordinate':None,'threshold':None}\n",
    "    data_num = X.shape[0]\n",
    "    data_dimentions = X.shape[1]\n",
    "    u = np.sum(X*X)\n",
    "    \n",
    "    for i in range(data_dimentions):\n",
    "        s = np.zeros(data_dimentions)\n",
    "        r = np.sum(X,axis=0)\n",
    "        ith_sorted_X = X[X[:,i].argsort(), :]\n",
    "        for j,data in enumerate(X[:-1]):\n",
    "            s += data\n",
    "            r -= data\n",
    "            cost = u - np.sum(s*s)/(j+1) -np.sum(r*r)/(data_num-j-1)\n",
    "            #print(cost)\n",
    "            if cost < bests_split['cost'] and X[j][i]!=X[j+1][i]:\n",
    "                bests_split['cost'] = cost\n",
    "                bests_split['coordinate'] = i\n",
    "                bests_split['threshold'] = data[i]\n",
    "            \n",
    "    return bests_split\n",
    "\n",
    "#最適な分割に基づいてクラスタリング(k=2)\n",
    "#this func is for clustering datasets based on best splits got from above func\n",
    "def clustering_2means_by_tree(bests_split,X):\n",
    "    cluster = np.ones(X.shape[0])\n",
    "    for i,data in enumerate(X):\n",
    "        if(data[bests_split['coordinate']]>bests_split['threshold']):\n",
    "            cluster[i] = 0\n",
    "    return cluster\n",
    "\n",
    "#得られた分割の中心座標を求める(k=2)\n",
    "#this func is for calculating center points\n",
    "def get_mean(X,approx_labels):\n",
    "    res=[]\n",
    "    for k in range(len(np.unique(approx_labels))):\n",
    "        n = 0\n",
    "        mean = np.zeros(X.shape[1])\n",
    "        for i,data in enumerate(X):\n",
    "            if(approx_labels[i]==k):\n",
    "                mean+=data\n",
    "                n+=1\n",
    "        res.append(mean/n)\n",
    "    return np.array(res)\n",
    "\n",
    "#近似の比率を計算する，論文ではkmeansの場合，上界は4である(k=2)．\n",
    "#this func is for calculating approximation ratio\n",
    "def approx_score(approx_labels,kmeans_model,X):\n",
    "    kmeans_cost = 0\n",
    "    kmeans_label = kmeans_model.labels_\n",
    "    kmeans_centers = kmeans_model.cluster_centers_\n",
    "    for i,data in enumerate(X):\n",
    "        kmeans_cost += np.sum((data-kmeans_centers[kmeans_label[i]])*(data-kmeans_centers[kmeans_label[i]]))\n",
    "    \n",
    "    approx_cost = 0\n",
    "    mean = get_mean(X,approx_labels)\n",
    "    for k in range(kmeans_model.n_clusters):\n",
    "        for i,data in enumerate(X):\n",
    "            if(approx_labels[i]==k):\n",
    "                approx_cost += np.sum((data-mean[k])*(data-mean[k]))\n",
    "    print(kmeans_cost)\n",
    "    print(approx_cost)\n",
    "    return approx_cost/kmeans_cost"
   ]
  },
  {
   "cell_type": "markdown",
   "metadata": {},
   "source": [
    "<br><br>\n",
    "## Two Datasets\n",
    "First is from [this good article](https://qiita.com/ynakayama/items/1223b6844a1a044e2e3b).\n",
    "\n",
    "Second is from uci repo and I get the code from [this good article](https://pythondatascience.plavox.info/scikit-learn/%E3%82%AF%E3%83%A9%E3%82%B9%E3%82%BF%E5%88%86%E6%9E%90-k-means)."
   ]
  },
  {
   "cell_type": "code",
   "execution_count": 4,
   "metadata": {},
   "outputs": [],
   "source": [
    "# First dataset\n",
    "# 生徒の国語・数学・英語の各得点を配列として与える\n",
    "X = np.array([\n",
    "        [  80,  85, 100 ],\n",
    "        [  96, 100, 100 ],\n",
    "        [  54,  83,  98 ],\n",
    "        [  80,  98,  98 ],\n",
    "        [  90,  92,  91 ],\n",
    "        [  84,  78,  82 ],\n",
    "        [  79, 100,  96 ],\n",
    "        [  88,  92,  92 ],\n",
    "        [  98,  73,  72 ],\n",
    "        [  75,  84,  85 ],\n",
    "        [  92, 100,  96 ],\n",
    "        [  96,  92,  90 ],\n",
    "        [  99,  76,  91 ],\n",
    "        [  75,  82,  88 ],\n",
    "        [  90,  94,  94 ],\n",
    "        [  54,  84,  87 ],\n",
    "        [  92,  89,  62 ],\n",
    "        [  88,  94,  97 ],\n",
    "        [  42,  99,  80 ],\n",
    "        [  70,  98,  70 ],\n",
    "        [  94,  78,  83 ],\n",
    "        [  52,  73,  87 ],\n",
    "        [  94,  88,  72 ],\n",
    "        [  70,  73,  80 ],\n",
    "        [  95,  84,  90 ],\n",
    "        [  95,  88,  84 ],\n",
    "        [  75,  97,  89 ],\n",
    "        [  49,  81,  86 ],\n",
    "        [  83,  72,  80 ],\n",
    "        [  75,  73,  88 ],\n",
    "        [  79,  82,  76 ],\n",
    "        [ 100,  77,  89 ],\n",
    "        [  88,  63,  79 ],\n",
    "        [ 100,  50,  86 ],\n",
    "        [  55,  96,  84 ],\n",
    "        [  92,  74,  77 ],\n",
    "        [  97,  50,  73 ],\n",
    "        ])"
   ]
  },
  {
   "cell_type": "code",
   "execution_count": 5,
   "metadata": {},
   "outputs": [
    {
     "data": {
      "text/plain": [
       "(440, 7)"
      ]
     },
     "execution_count": 5,
     "metadata": {},
     "output_type": "execute_result"
    }
   ],
   "source": [
    "#second datasets\n",
    "cust_df = pd.read_csv(\"http://pythondatascience.plavox.info/wp-content/uploads/2016/05/Wholesale_customers_data.csv\")\n",
    "del(cust_df['Channel'])\n",
    "del(cust_df['Region'])\n",
    "cust_array = np.array([cust_df['Fresh'].tolist(),\n",
    "                       cust_df['Milk'].tolist(),\n",
    "                       cust_df['Grocery'].tolist(),\n",
    "                       cust_df['Frozen'].tolist(),\n",
    "                       cust_df['Milk'].tolist(),\n",
    "                       cust_df['Detergents_Paper'].tolist(),\n",
    "                       cust_df['Delicassen'].tolist()\n",
    "                       ], np.int32)\n",
    "cust_array = cust_array.T\n",
    "cust_array.shape"
   ]
  },
  {
   "cell_type": "markdown",
   "metadata": {},
   "source": [
    "<br><br>\n",
    "## First data and k=2 "
   ]
  },
  {
   "cell_type": "code",
   "execution_count": 6,
   "metadata": {},
   "outputs": [
    {
     "name": "stdout",
     "output_type": "stream",
     "text": [
      "{'cost': 15800.027777777781, 'coordinate': 0, 'threshold': 49}\n",
      "[0. 0. 0. 0. 0. 0. 0. 0. 0. 0. 0. 0. 0. 0. 0. 0. 0. 0. 1. 0. 0. 0. 0. 0.\n",
      " 0. 0. 0. 1. 0. 0. 0. 0. 0. 0. 0. 0. 0.]\n"
     ]
    }
   ],
   "source": [
    "#K-meansクラスタリングをおこなう\n",
    "kmeans_model = KMeans(n_clusters=2, random_state=10).fit(X)\n",
    "#分類先となったラベルを取得する\n",
    "labels = kmeans_model.labels_\n",
    "\n",
    "#提案手法による近似アルゴリズムで取得する\n",
    "bests_split = optimal_threshold_2means(X)\n",
    "approx_labels = clustering_2means_by_tree(bests_split,X)\n",
    "print(bests_split)\n",
    "print(approx_labels)"
   ]
  },
  {
   "cell_type": "code",
   "execution_count": 7,
   "metadata": {},
   "outputs": [
    {
     "name": "stdout",
     "output_type": "stream",
     "text": [
      "11316.030172413793\n",
      "15320.328571428567\n"
     ]
    },
    {
     "data": {
      "text/plain": [
       "1.3538607036217036"
      ]
     },
     "execution_count": 7,
     "metadata": {},
     "output_type": "execute_result"
    }
   ],
   "source": [
    "approx_score(approx_labels,kmeans_model,X) #近似アルゴリズムのコスト ➗ k-meansのコスト"
   ]
  },
  {
   "cell_type": "markdown",
   "metadata": {},
   "source": [
    "<br><br>\n",
    "## Second data and k=2"
   ]
  },
  {
   "cell_type": "code",
   "execution_count": 8,
   "metadata": {},
   "outputs": [
    {
     "name": "stdout",
     "output_type": "stream",
     "text": [
      "{'cost': 82634911605.12671, 'coordinate': 0, 'threshold': 9198}\n"
     ]
    }
   ],
   "source": [
    "#K-meansクラスタリングをおこなう\n",
    "kmeans_model = KMeans(n_clusters=2, random_state=10).fit(cust_array)\n",
    "#分類先となったラベルを取得する\n",
    "labels = kmeans_model.labels_\n",
    "\n",
    "#提案手法による近似アルゴリズムで取得する\n",
    "bests_split = optimal_threshold_2means(cust_array)\n",
    "approx_labels = clustering_2means_by_tree(bests_split,cust_array)\n",
    "print(bests_split)"
   ]
  },
  {
   "cell_type": "code",
   "execution_count": 9,
   "metadata": {},
   "outputs": [
    {
     "name": "stdout",
     "output_type": "stream",
     "text": [
      "132340344661.33641\n",
      "147714287599.63416\n"
     ]
    },
    {
     "data": {
      "text/plain": [
       "1.116169736278383"
      ]
     },
     "execution_count": 9,
     "metadata": {},
     "output_type": "execute_result"
    }
   ],
   "source": [
    "approx_score(approx_labels,kmeans_model,cust_array) #近似アルゴリズムのコスト ➗ k-meansのコスト"
   ]
  },
  {
   "cell_type": "markdown",
   "metadata": {},
   "source": [
    "<br><br>\n",
    "## IMM Algorithm\n",
    "I'm working on this...."
   ]
  },
  {
   "cell_type": "markdown",
   "metadata": {},
   "source": [
    "## Define funcs\n",
    "I did not create Class of their algorithm, so this is a little experiment for me."
   ]
  },
  {
   "cell_type": "code",
   "execution_count": 107,
   "metadata": {},
   "outputs": [],
   "source": [
    "class TreeNode:\n",
    "    def __init__(self, val=0, left=None, right=None,condition=None):\n",
    "        self.val = val\n",
    "        self.left = left\n",
    "        self.right = right \n",
    "        self.condition = (0,0) #(i,threshold) x_i <= threshold  or  x_i > threshold \n",
    "\n",
    "def minimum_center(i,labels,centers):\n",
    "    minimum = np.inf\n",
    "    for j in labels:\n",
    "        minimum = min(minimum, centers[j][i])\n",
    "    return minimum\n",
    "\n",
    "def maximum_center(i,labels,centers):\n",
    "    maximum = np.inf\n",
    "    for j in labels:\n",
    "        maximum = min(maximum, centers[j][i])\n",
    "    return maximum  \n",
    "\n",
    "def mistake(x,center,i,threshold):\n",
    "    return 0 if ((x[i]<=threshold) == (center[i]<=threshold)) else 1\n",
    "\n",
    "def delete_mistakes_data(X,labels,centers,i,threshold):\n",
    "    data = []\n",
    "    for idx,x in enumerate(X):\n",
    "        if(mistake(x,centers[labels[idx]],i,threshold)==0):\n",
    "            data.append(x)\n",
    "    return np.array(data)\n",
    "    \n",
    "def make_next_data(X,labels,i,threshold):\n",
    "    l_data=[]\n",
    "    l_labels=[]\n",
    "    r_data=[]\n",
    "    r_labels=[]\n",
    "    for idx,x in enumerate(X):\n",
    "        if(x[i]<=threshold):\n",
    "            l_data.append(x)\n",
    "            l_labels.append(labels[idx])\n",
    "        else:\n",
    "            r_data.append(x)\n",
    "            r_labels.append(labels[idx])\n",
    "            \n",
    "    return np.array(l_data),np.array(l_labels),np.array(r_data),np.array(r_labels)"
   ]
  },
  {
   "cell_type": "code",
   "execution_count": null,
   "metadata": {
    "jupyter": {
     "source_hidden": true
    }
   },
   "outputs": [],
   "source": [
    "    u = np.sum(X*X)\n",
    "    \n",
    "    for i in range(data_dimentions):\n",
    "        s = np.zeros(data_dimentions)\n",
    "        r = np.sum(X,axis=0)\n",
    "        ith_sorted_X = X[X[:,i].argsort(), :]\n",
    "        for j,data in enumerate(X[:-1]):\n",
    "            s += data\n",
    "            r -= data\n",
    "            cost = u - np.sum(s*s)/(j+1) -np.sum(r*r)/(data_num-j-1)\n",
    "            #print(cost)\n",
    "            if cost < bests_split['cost'] and X[j][i]!=X[j+1][i]:\n",
    "                bests_split['mistake'] = \n",
    "                bests_split['coordinate'] = i\n",
    "                bests_split['threshold'] = data[i]"
   ]
  },
  {
   "cell_type": "code",
   "execution_count": 81,
   "metadata": {},
   "outputs": [],
   "source": [
    "def get_best_splits(X,l,r,labels,centers):\n",
    "    bests_split = {'mistake':np.inf,'coordinate':None,'threshold':None}\n",
    "    data_num = X.shape[0]\n",
    "    data_dimentions = X.shape[1]\n",
    "    \n",
    "    for i in range(data_dimentions):\n",
    "        ith_sorted_X = X[X[:,i].argsort(), :]\n",
    "        ith_sorted_centers = centers[centers[:,i].argsort(), :]\n",
    "        for j,x in enumerate(X[:-1]):\n",
    "            if(l[i]>x[i] or x[i]>=r[i]) continue\n",
    "            cnt_mistakes += mistake(x,centers[labels[j]],i,x[i])\n",
    "            \n",
    "            if bests_split['mistake'] > cnt_mistakes:\n",
    "                bests_split['mistake'] = cnt_mistakes\n",
    "                bests_split['coordinate'] = i\n",
    "                bests_split['threshold'] = x[i]   \n",
    "            \n",
    "    return bests_split['coordinate'],bests_split['threshold']"
   ]
  },
  {
   "cell_type": "code",
   "execution_count": 104,
   "metadata": {},
   "outputs": [],
   "source": [
    "def build_tree(X,labels,centers):\n",
    "    node = TreeNode()\n",
    "    l=[]\n",
    "    r=[]\n",
    "    \n",
    "    #論文疑似コード ２〜４行目\n",
    "    if(len(np.unique(labels))==1):\n",
    "        node.val = labels[0]\n",
    "        return node\n",
    "    \n",
    "\n",
    "    #論文疑似コード ６〜９行目\n",
    "    for i in range(X.shape[1]):\n",
    "        l.append(minimum_center(i,labels,centers))\n",
    "        r.append(maximum_center(i,labels,centers))\n",
    "        \n",
    "    #論文疑似コード 10〜13行目\n",
    "    i,threshold = get_best_splits(X,l,r,labels,centers)\n",
    "    X = delete_mistakes_data(X,labels,centers,i,threshold)\n",
    "    left_data,left_labels,right_data,right_labels = make_next_data(X,labels,i,threshold)\n",
    "    \n",
    "    #論文疑似コード １４〜１６行目\n",
    "    node.condition = (i,threshold)\n",
    "    node.left = build_tree(left_data,left_labels,centers)\n",
    "    node.right = build_tree(right_data,right_labels,centers)\n",
    "    \n",
    "    return node"
   ]
  },
  {
   "cell_type": "markdown",
   "metadata": {},
   "source": [
    "<br><br>\n",
    "## First data and k=3"
   ]
  },
  {
   "cell_type": "code",
   "execution_count": 105,
   "metadata": {},
   "outputs": [
    {
     "ename": "IndexError",
     "evalue": "index 0 is out of bounds for axis 0 with size 0",
     "output_type": "error",
     "traceback": [
      "\u001b[0;31m-------------------------------\u001b[0m",
      "\u001b[0;31mIndexError\u001b[0mTraceback (most recent call last)",
      "\u001b[0;32m<ipython-input-105-9c181c8a04ee>\u001b[0m in \u001b[0;36m<module>\u001b[0;34m\u001b[0m\n\u001b[1;32m      4\u001b[0m \u001b[0mlabels\u001b[0m \u001b[0;34m=\u001b[0m \u001b[0mkmeans_model\u001b[0m\u001b[0;34m.\u001b[0m\u001b[0mlabels_\u001b[0m\u001b[0;34m\u001b[0m\u001b[0;34m\u001b[0m\u001b[0m\n\u001b[1;32m      5\u001b[0m \u001b[0;34m\u001b[0m\u001b[0m\n\u001b[0;32m----> 6\u001b[0;31m \u001b[0mroot\u001b[0m \u001b[0;34m=\u001b[0m \u001b[0mbuild_tree\u001b[0m\u001b[0;34m(\u001b[0m\u001b[0mX\u001b[0m\u001b[0;34m,\u001b[0m\u001b[0mlabels\u001b[0m\u001b[0;34m,\u001b[0m\u001b[0mcenters\u001b[0m\u001b[0;34m)\u001b[0m\u001b[0;34m\u001b[0m\u001b[0;34m\u001b[0m\u001b[0m\n\u001b[0m\u001b[1;32m      7\u001b[0m \u001b[0mroot\u001b[0m\u001b[0;34m\u001b[0m\u001b[0;34m\u001b[0m\u001b[0m\n",
      "\u001b[0;32m<ipython-input-104-bd70f7eb5652>\u001b[0m in \u001b[0;36mbuild_tree\u001b[0;34m(X, labels, centers)\u001b[0m\n\u001b[1;32m     20\u001b[0m     \u001b[0;31m#論文疑似コード １４〜１６行目\u001b[0m\u001b[0;34m\u001b[0m\u001b[0;34m\u001b[0m\u001b[0;34m\u001b[0m\u001b[0m\n\u001b[1;32m     21\u001b[0m     \u001b[0mnode\u001b[0m\u001b[0;34m.\u001b[0m\u001b[0mcondition\u001b[0m \u001b[0;34m=\u001b[0m \u001b[0;34m(\u001b[0m\u001b[0mi\u001b[0m\u001b[0;34m,\u001b[0m\u001b[0mthreshold\u001b[0m\u001b[0;34m)\u001b[0m\u001b[0;34m\u001b[0m\u001b[0;34m\u001b[0m\u001b[0m\n\u001b[0;32m---> 22\u001b[0;31m     \u001b[0mnode\u001b[0m\u001b[0;34m.\u001b[0m\u001b[0mleft\u001b[0m \u001b[0;34m=\u001b[0m \u001b[0mbuild_tree\u001b[0m\u001b[0;34m(\u001b[0m\u001b[0mleft_data\u001b[0m\u001b[0;34m,\u001b[0m\u001b[0mleft_labels\u001b[0m\u001b[0;34m,\u001b[0m\u001b[0mcenters\u001b[0m\u001b[0;34m)\u001b[0m\u001b[0;34m\u001b[0m\u001b[0;34m\u001b[0m\u001b[0m\n\u001b[0m\u001b[1;32m     23\u001b[0m     \u001b[0mnode\u001b[0m\u001b[0;34m.\u001b[0m\u001b[0mright\u001b[0m \u001b[0;34m=\u001b[0m \u001b[0mbuild_tree\u001b[0m\u001b[0;34m(\u001b[0m\u001b[0mright_data\u001b[0m\u001b[0;34m,\u001b[0m\u001b[0mright_labels\u001b[0m\u001b[0;34m,\u001b[0m\u001b[0mcenters\u001b[0m\u001b[0;34m)\u001b[0m\u001b[0;34m\u001b[0m\u001b[0;34m\u001b[0m\u001b[0m\n\u001b[1;32m     24\u001b[0m \u001b[0;34m\u001b[0m\u001b[0m\n",
      "\u001b[0;32m<ipython-input-104-bd70f7eb5652>\u001b[0m in \u001b[0;36mbuild_tree\u001b[0;34m(X, labels, centers)\u001b[0m\n\u001b[1;32m      3\u001b[0m     \u001b[0;31m#論文疑似コード ２〜４行目\u001b[0m\u001b[0;34m\u001b[0m\u001b[0;34m\u001b[0m\u001b[0;34m\u001b[0m\u001b[0m\n\u001b[1;32m      4\u001b[0m     \u001b[0;32mif\u001b[0m\u001b[0;34m(\u001b[0m\u001b[0mlen\u001b[0m\u001b[0;34m(\u001b[0m\u001b[0mnp\u001b[0m\u001b[0;34m.\u001b[0m\u001b[0munique\u001b[0m\u001b[0;34m(\u001b[0m\u001b[0mlabels\u001b[0m\u001b[0;34m)\u001b[0m\u001b[0;34m)\u001b[0m\u001b[0;34m==\u001b[0m\u001b[0;36m1\u001b[0m \u001b[0;32mor\u001b[0m \u001b[0mlen\u001b[0m\u001b[0;34m(\u001b[0m\u001b[0mX\u001b[0m\u001b[0;34m)\u001b[0m\u001b[0;34m==\u001b[0m\u001b[0;36m0\u001b[0m\u001b[0;34m)\u001b[0m\u001b[0;34m:\u001b[0m\u001b[0;34m\u001b[0m\u001b[0;34m\u001b[0m\u001b[0m\n\u001b[0;32m----> 5\u001b[0;31m         \u001b[0mnode\u001b[0m\u001b[0;34m.\u001b[0m\u001b[0mval\u001b[0m \u001b[0;34m=\u001b[0m \u001b[0mlabels\u001b[0m\u001b[0;34m[\u001b[0m\u001b[0;36m0\u001b[0m\u001b[0;34m]\u001b[0m\u001b[0;34m\u001b[0m\u001b[0;34m\u001b[0m\u001b[0m\n\u001b[0m\u001b[1;32m      6\u001b[0m         \u001b[0;32mreturn\u001b[0m \u001b[0mnode\u001b[0m\u001b[0;34m\u001b[0m\u001b[0;34m\u001b[0m\u001b[0m\n\u001b[1;32m      7\u001b[0m \u001b[0;34m\u001b[0m\u001b[0m\n",
      "\u001b[0;31mIndexError\u001b[0m: index 0 is out of bounds for axis 0 with size 0"
     ]
    }
   ],
   "source": [
    "#IMM procedure\n",
    "kmeans_model = KMeans(n_clusters=3, random_state=10).fit(X)\n",
    "centers = kmeans_model.cluster_centers_\n",
    "labels = kmeans_model.labels_\n",
    "\n",
    "root = build_tree(X,labels,centers)\n",
    "root"
   ]
  },
  {
   "cell_type": "markdown",
   "metadata": {},
   "source": [
    "<br><br>\n",
    "## Second data and k=3"
   ]
  },
  {
   "cell_type": "code",
   "execution_count": 89,
   "metadata": {},
   "outputs": [
    {
     "name": "stdout",
     "output_type": "stream",
     "text": [
      "[]\n"
     ]
    },
    {
     "ename": "IndexError",
     "evalue": "tuple index out of range",
     "output_type": "error",
     "traceback": [
      "\u001b[0;31m-------------------------------\u001b[0m",
      "\u001b[0;31mIndexError\u001b[0mTraceback (most recent call last)",
      "\u001b[0;32m<ipython-input-89-9c181c8a04ee>\u001b[0m in \u001b[0;36m<module>\u001b[0;34m\u001b[0m\n\u001b[1;32m      4\u001b[0m \u001b[0mlabels\u001b[0m \u001b[0;34m=\u001b[0m \u001b[0mkmeans_model\u001b[0m\u001b[0;34m.\u001b[0m\u001b[0mlabels_\u001b[0m\u001b[0;34m\u001b[0m\u001b[0;34m\u001b[0m\u001b[0m\n\u001b[1;32m      5\u001b[0m \u001b[0;34m\u001b[0m\u001b[0m\n\u001b[0;32m----> 6\u001b[0;31m \u001b[0mroot\u001b[0m \u001b[0;34m=\u001b[0m \u001b[0mbuild_tree\u001b[0m\u001b[0;34m(\u001b[0m\u001b[0mX\u001b[0m\u001b[0;34m,\u001b[0m\u001b[0mlabels\u001b[0m\u001b[0;34m,\u001b[0m\u001b[0mcenters\u001b[0m\u001b[0;34m)\u001b[0m\u001b[0;34m\u001b[0m\u001b[0;34m\u001b[0m\u001b[0m\n\u001b[0m\u001b[1;32m      7\u001b[0m \u001b[0mroot\u001b[0m\u001b[0;34m\u001b[0m\u001b[0;34m\u001b[0m\u001b[0m\n",
      "\u001b[0;32m<ipython-input-87-193563839af0>\u001b[0m in \u001b[0;36mbuild_tree\u001b[0;34m(X, labels, centers)\u001b[0m\n\u001b[1;32m     21\u001b[0m     \u001b[0mnode\u001b[0m\u001b[0;34m.\u001b[0m\u001b[0mcondition\u001b[0m \u001b[0;34m=\u001b[0m \u001b[0;34m(\u001b[0m\u001b[0mi\u001b[0m\u001b[0;34m,\u001b[0m\u001b[0mthreshold\u001b[0m\u001b[0;34m)\u001b[0m\u001b[0;34m\u001b[0m\u001b[0;34m\u001b[0m\u001b[0m\n\u001b[1;32m     22\u001b[0m     \u001b[0mprint\u001b[0m\u001b[0;34m(\u001b[0m\u001b[0mleft_data\u001b[0m\u001b[0;34m)\u001b[0m\u001b[0;34m\u001b[0m\u001b[0;34m\u001b[0m\u001b[0m\n\u001b[0;32m---> 23\u001b[0;31m     \u001b[0mnode\u001b[0m\u001b[0;34m.\u001b[0m\u001b[0mleft\u001b[0m \u001b[0;34m=\u001b[0m \u001b[0mbuild_tree\u001b[0m\u001b[0;34m(\u001b[0m\u001b[0mleft_data\u001b[0m\u001b[0;34m,\u001b[0m\u001b[0mleft_labels\u001b[0m\u001b[0;34m,\u001b[0m\u001b[0mcenters\u001b[0m\u001b[0;34m)\u001b[0m\u001b[0;34m\u001b[0m\u001b[0;34m\u001b[0m\u001b[0m\n\u001b[0m\u001b[1;32m     24\u001b[0m     \u001b[0mnode\u001b[0m\u001b[0;34m.\u001b[0m\u001b[0mright\u001b[0m \u001b[0;34m=\u001b[0m \u001b[0mbuild_tree\u001b[0m\u001b[0;34m(\u001b[0m\u001b[0mright_data\u001b[0m\u001b[0;34m,\u001b[0m\u001b[0mright_labels\u001b[0m\u001b[0;34m,\u001b[0m\u001b[0mcenters\u001b[0m\u001b[0;34m)\u001b[0m\u001b[0;34m\u001b[0m\u001b[0;34m\u001b[0m\u001b[0m\n\u001b[1;32m     25\u001b[0m \u001b[0;34m\u001b[0m\u001b[0m\n",
      "\u001b[0;32m<ipython-input-87-193563839af0>\u001b[0m in \u001b[0;36mbuild_tree\u001b[0;34m(X, labels, centers)\u001b[0m\n\u001b[1;32m      9\u001b[0m     \u001b[0mr\u001b[0m\u001b[0;34m=\u001b[0m\u001b[0;34m[\u001b[0m\u001b[0;34m]\u001b[0m\u001b[0;34m\u001b[0m\u001b[0;34m\u001b[0m\u001b[0m\n\u001b[1;32m     10\u001b[0m     \u001b[0;31m#論文疑似コード ６〜９行目\u001b[0m\u001b[0;34m\u001b[0m\u001b[0;34m\u001b[0m\u001b[0;34m\u001b[0m\u001b[0m\n\u001b[0;32m---> 11\u001b[0;31m     \u001b[0;32mfor\u001b[0m \u001b[0mi\u001b[0m \u001b[0;32min\u001b[0m \u001b[0mrange\u001b[0m\u001b[0;34m(\u001b[0m\u001b[0mX\u001b[0m\u001b[0;34m.\u001b[0m\u001b[0mshape\u001b[0m\u001b[0;34m[\u001b[0m\u001b[0;36m1\u001b[0m\u001b[0;34m]\u001b[0m\u001b[0;34m)\u001b[0m\u001b[0;34m:\u001b[0m\u001b[0;34m\u001b[0m\u001b[0;34m\u001b[0m\u001b[0m\n\u001b[0m\u001b[1;32m     12\u001b[0m         \u001b[0ml\u001b[0m\u001b[0;34m.\u001b[0m\u001b[0mappend\u001b[0m\u001b[0;34m(\u001b[0m\u001b[0mminimum_center\u001b[0m\u001b[0;34m(\u001b[0m\u001b[0mi\u001b[0m\u001b[0;34m,\u001b[0m\u001b[0mlabels\u001b[0m\u001b[0;34m,\u001b[0m\u001b[0mcenters\u001b[0m\u001b[0;34m)\u001b[0m\u001b[0;34m)\u001b[0m\u001b[0;34m\u001b[0m\u001b[0;34m\u001b[0m\u001b[0m\n\u001b[1;32m     13\u001b[0m         \u001b[0mr\u001b[0m\u001b[0;34m.\u001b[0m\u001b[0mappend\u001b[0m\u001b[0;34m(\u001b[0m\u001b[0mmaximum_center\u001b[0m\u001b[0;34m(\u001b[0m\u001b[0mi\u001b[0m\u001b[0;34m,\u001b[0m\u001b[0mlabels\u001b[0m\u001b[0;34m,\u001b[0m\u001b[0mcenters\u001b[0m\u001b[0;34m)\u001b[0m\u001b[0;34m)\u001b[0m\u001b[0;34m\u001b[0m\u001b[0;34m\u001b[0m\u001b[0m\n",
      "\u001b[0;31mIndexError\u001b[0m: tuple index out of range"
     ]
    }
   ],
   "source": [
    "#IMM procedure\n",
    "kmeans_model = KMeans(n_clusters=3, random_state=10).fit(X)\n",
    "centers = kmeans_model.cluster_centers_\n",
    "labels = kmeans_model.labels_\n",
    "\n",
    "root = build_tree(X,labels,centers)\n",
    "root"
   ]
  },
  {
   "cell_type": "code",
   "execution_count": null,
   "metadata": {},
   "outputs": [],
   "source": []
  }
 ],
 "metadata": {
  "kernelspec": {
   "display_name": "Python 3",
   "language": "python",
   "name": "python3"
  },
  "language_info": {
   "codemirror_mode": {
    "name": "ipython",
    "version": 3
   },
   "file_extension": ".py",
   "mimetype": "text/x-python",
   "name": "python",
   "nbconvert_exporter": "python",
   "pygments_lexer": "ipython3",
   "version": "3.7.6"
  }
 },
 "nbformat": 4,
 "nbformat_minor": 4
}
