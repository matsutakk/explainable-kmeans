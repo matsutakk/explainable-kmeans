{
  "nbformat": 4,
  "nbformat_minor": 0,
  "metadata": {
    "colab": {
      "name": "explainable_kmeans.ipynb",
      "provenance": [],
      "collapsed_sections": []
    },
    "kernelspec": {
      "name": "python3",
      "display_name": "Python 3"
    }
  },
  "cells": [
    {
      "cell_type": "markdown",
      "metadata": {
        "id": "TuTD6V71BLs8",
        "colab_type": "text"
      },
      "source": [
        "### created by Takuya Matsuda at YNU"
      ]
    },
    {
      "cell_type": "code",
      "metadata": {
        "id": "NQ8_Pv0X7ZIP",
        "colab_type": "code",
        "colab": {
          "base_uri": "https://localhost:8080/",
          "height": 34
        },
        "outputId": "420df629-2d86-4083-cc2c-ca6411576393"
      },
      "source": [
        "!pip install graphviz"
      ],
      "execution_count": 18,
      "outputs": [
        {
          "output_type": "stream",
          "text": [
            "Requirement already satisfied: graphviz in /usr/local/lib/python3.6/dist-packages (0.10.1)\n"
          ],
          "name": "stdout"
        }
      ]
    },
    {
      "cell_type": "markdown",
      "metadata": {
        "id": "evtU8xgl52Wf",
        "colab_type": "text"
      },
      "source": [
        "<br><br>\n",
        "# Explainable k-means"
      ]
    },
    {
      "cell_type": "code",
      "metadata": {
        "id": "vO0mgUpX5j4x",
        "colab_type": "code",
        "colab": {}
      },
      "source": [
        "import queue\n",
        "import numpy as np\n",
        "import pandas as pd\n",
        "from sklearn.cluster import KMeans\n",
        "from graphviz import Digraph"
      ],
      "execution_count": 30,
      "outputs": []
    },
    {
      "cell_type": "markdown",
      "metadata": {
        "id": "TM5mgXdl57nV",
        "colab_type": "text"
      },
      "source": [
        "<br><br>\n",
        "## Define funcs for k=2\n",
        "I did not create Class of their algorithm, so this is a little experiment for me."
      ]
    },
    {
      "cell_type": "code",
      "metadata": {
        "id": "N8o4DrKq5zRk",
        "colab_type": "code",
        "colab": {}
      },
      "source": [
        "#ソートと動的計画法によって，最適な分割を求める (k=2)\n",
        "#this func is main func and get best split condition using sort and dynamic programming\n",
        "def optimal_threshold_2means(X):\n",
        "    bests_split = {'cost':np.inf,'coordinate':None,'threshold':None}\n",
        "    data_num = X.shape[0]\n",
        "    data_dimentions = X.shape[1]\n",
        "    u = np.sum(X*X)\n",
        "    \n",
        "    for i in range(data_dimentions):\n",
        "        s = np.zeros(data_dimentions)\n",
        "        r = np.sum(X,axis=0)\n",
        "        ith_sorted_X = X[X[:,i].argsort(), :]\n",
        "        for j,data in enumerate(ith_sorted_X[:-1]):\n",
        "            s += data\n",
        "            r -= data\n",
        "            cost = u - np.sum(s*s)/(j+1) -np.sum(r*r)/(data_num-j-1)\n",
        "            #print(cost)\n",
        "            if cost < bests_split['cost'] and X[j][i]!=X[j+1][i]:\n",
        "                bests_split['cost'] = cost\n",
        "                bests_split['coordinate'] = i\n",
        "                bests_split['threshold'] = data[i]\n",
        "            \n",
        "    return bests_split\n",
        "\n",
        "#最適な分割に基づいてクラスタリング(k=2)\n",
        "#this func is for clustering datasets based on best splits got from above func\n",
        "def clustering_2means_by_tree(bests_split,X):\n",
        "    cluster = np.ones(X.shape[0])\n",
        "    for i,data in enumerate(X):\n",
        "        if(data[bests_split['coordinate']]>bests_split['threshold']):\n",
        "            cluster[i] = 0\n",
        "    return cluster\n",
        "\n",
        "#得られた分割の中心座標を求める(k=2)\n",
        "#this func is for calculating center points\n",
        "def get_mean(X,approx_labels):\n",
        "    res=[]\n",
        "    for k in range(len(np.unique(approx_labels))):\n",
        "        n = 0\n",
        "        mean = np.zeros(X.shape[1])\n",
        "        for i,data in enumerate(X):\n",
        "            if(approx_labels[i]==k):\n",
        "                mean+=data\n",
        "                n+=1\n",
        "        res.append(mean/n)\n",
        "    return np.array(res)\n",
        "\n",
        "#近似の比率を計算する，論文ではkmeansの場合，上界は4である(k=2)．\n",
        "#this func is for calculating approximation ratio\n",
        "def approx_score(approx_labels,kmeans_model,X):\n",
        "    kmeans_cost = 0\n",
        "    kmeans_label = kmeans_model.labels_\n",
        "    kmeans_centers = kmeans_model.cluster_centers_\n",
        "    for i,data in enumerate(X):\n",
        "        kmeans_cost += np.sum((data-kmeans_centers[kmeans_label[i]])*(data-kmeans_centers[kmeans_label[i]]))\n",
        "    \n",
        "    approx_cost = 0\n",
        "    mean = get_mean(X,approx_labels)\n",
        "    for k in range(kmeans_model.n_clusters):\n",
        "        for i,data in enumerate(X):\n",
        "            if(approx_labels[i]==k):\n",
        "                approx_cost += np.sum((data-mean[k])*(data-mean[k]))\n",
        "    print(kmeans_cost)\n",
        "    print(approx_cost)\n",
        "    return approx_cost/kmeans_cost"
      ],
      "execution_count": 2,
      "outputs": []
    },
    {
      "cell_type": "markdown",
      "metadata": {
        "id": "ZRJETWfD6ALL",
        "colab_type": "text"
      },
      "source": [
        "<br><br>\n",
        "## Two Datasets\n",
        "First is from [this good article](https://qiita.com/ynakayama/items/1223b6844a1a044e2e3b).\n",
        "\n",
        "Second is from uci repo and I get the code from [this good article](https://pythondatascience.plavox.info/scikit-learn/%E3%82%AF%E3%83%A9%E3%82%B9%E3%82%BF%E5%88%86%E6%9E%90-k-means)."
      ]
    },
    {
      "cell_type": "code",
      "metadata": {
        "id": "MfULm2_S5_Cd",
        "colab_type": "code",
        "colab": {}
      },
      "source": [
        "# First dataset\n",
        "# 生徒の国語・数学・英語の各得点を配列として与える\n",
        "X = np.array([\n",
        "        [  80,  85, 100 ],\n",
        "        [  96, 100, 100 ],\n",
        "        [  54,  83,  98 ],\n",
        "        [  80,  98,  98 ],\n",
        "        [  90,  92,  91 ],\n",
        "        [  84,  78,  82 ],\n",
        "        [  79, 100,  96 ],\n",
        "        [  88,  92,  92 ],\n",
        "        [  98,  73,  72 ],\n",
        "        [  75,  84,  85 ],\n",
        "        [  92, 100,  96 ],\n",
        "        [  96,  92,  90 ],\n",
        "        [  99,  76,  91 ],\n",
        "        [  75,  82,  88 ],\n",
        "        [  90,  94,  94 ],\n",
        "        [  54,  84,  87 ],\n",
        "        [  92,  89,  62 ],\n",
        "        [  88,  94,  97 ],\n",
        "        [  42,  99,  80 ],\n",
        "        [  70,  98,  70 ],\n",
        "        [  94,  78,  83 ],\n",
        "        [  52,  73,  87 ],\n",
        "        [  94,  88,  72 ],\n",
        "        [  70,  73,  80 ],\n",
        "        [  95,  84,  90 ],\n",
        "        [  95,  88,  84 ],\n",
        "        [  75,  97,  89 ],\n",
        "        [  49,  81,  86 ],\n",
        "        [  83,  72,  80 ],\n",
        "        [  75,  73,  88 ],\n",
        "        [  79,  82,  76 ],\n",
        "        [ 100,  77,  89 ],\n",
        "        [  88,  63,  79 ],\n",
        "        [ 100,  50,  86 ],\n",
        "        [  55,  96,  84 ],\n",
        "        [  92,  74,  77 ],\n",
        "        [  97,  50,  73 ],\n",
        "        ])"
      ],
      "execution_count": 3,
      "outputs": []
    },
    {
      "cell_type": "code",
      "metadata": {
        "id": "YTfJApum6Kh1",
        "colab_type": "code",
        "colab": {
          "base_uri": "https://localhost:8080/",
          "height": 34
        },
        "outputId": "5870cb61-8cde-4485-eed8-5869666aee46"
      },
      "source": [
        "#second datasets\n",
        "cust_df = pd.read_csv(\"http://pythondatascience.plavox.info/wp-content/uploads/2016/05/Wholesale_customers_data.csv\")\n",
        "del(cust_df['Channel'])\n",
        "del(cust_df['Region'])\n",
        "cust_array = np.array([cust_df['Fresh'].tolist(),\n",
        "                       cust_df['Milk'].tolist(),\n",
        "                       cust_df['Grocery'].tolist(),\n",
        "                       cust_df['Frozen'].tolist(),\n",
        "                       cust_df['Milk'].tolist(),\n",
        "                       cust_df['Detergents_Paper'].tolist(),\n",
        "                       cust_df['Delicassen'].tolist()\n",
        "                       ], np.int32)\n",
        "cust_array = cust_array.T\n",
        "cust_array.shape"
      ],
      "execution_count": 4,
      "outputs": [
        {
          "output_type": "execute_result",
          "data": {
            "text/plain": [
              "(440, 7)"
            ]
          },
          "metadata": {
            "tags": []
          },
          "execution_count": 4
        }
      ]
    },
    {
      "cell_type": "markdown",
      "metadata": {
        "id": "2e3Q7CEq6RKa",
        "colab_type": "text"
      },
      "source": [
        "<br><br>\n",
        "## First data and k=2 "
      ]
    },
    {
      "cell_type": "code",
      "metadata": {
        "id": "gjNuH4Cq6NLo",
        "colab_type": "code",
        "colab": {
          "base_uri": "https://localhost:8080/",
          "height": 68
        },
        "outputId": "635a63df-db57-4c9b-f948-17dc694c3712"
      },
      "source": [
        "#K-meansクラスタリングをおこなう\n",
        "kmeans_model = KMeans(n_clusters=2, random_state=10).fit(X)\n",
        "#分類先となったラベルを取得する\n",
        "labels = kmeans_model.labels_\n",
        "\n",
        "#提案手法による近似アルゴリズムで取得する\n",
        "bests_split = optimal_threshold_2means(X)\n",
        "approx_labels = clustering_2means_by_tree(bests_split,X)\n",
        "print(bests_split)\n",
        "print(approx_labels)"
      ],
      "execution_count": 5,
      "outputs": [
        {
          "output_type": "stream",
          "text": [
            "{'cost': 11316.030172413797, 'coordinate': 0, 'threshold': 70}\n",
            "[0. 0. 1. 0. 0. 0. 0. 0. 0. 0. 0. 0. 0. 0. 0. 1. 0. 0. 1. 1. 0. 1. 0. 1.\n",
            " 0. 0. 0. 1. 0. 0. 0. 0. 0. 0. 1. 0. 0.]\n"
          ],
          "name": "stdout"
        }
      ]
    },
    {
      "cell_type": "code",
      "metadata": {
        "id": "Qw2hFW3X6TGF",
        "colab_type": "code",
        "colab": {
          "base_uri": "https://localhost:8080/",
          "height": 68
        },
        "outputId": "a4cb04df-b7fa-4c6f-b7b5-bc78da760810"
      },
      "source": [
        "approx_score(approx_labels,kmeans_model,X) #近似アルゴリズムのコスト ➗ k-meansのコスト"
      ],
      "execution_count": 6,
      "outputs": [
        {
          "output_type": "stream",
          "text": [
            "11316.030172413793\n",
            "11316.030172413793\n"
          ],
          "name": "stdout"
        },
        {
          "output_type": "execute_result",
          "data": {
            "text/plain": [
              "1.0"
            ]
          },
          "metadata": {
            "tags": []
          },
          "execution_count": 6
        }
      ]
    },
    {
      "cell_type": "markdown",
      "metadata": {
        "id": "2QDeGFmP6Yr4",
        "colab_type": "text"
      },
      "source": [
        "<br><br>\n",
        "## Second data and k=2"
      ]
    },
    {
      "cell_type": "code",
      "metadata": {
        "id": "UCkO03gN6VXa",
        "colab_type": "code",
        "colab": {
          "base_uri": "https://localhost:8080/",
          "height": 34
        },
        "outputId": "64daaeab-37cf-4338-8374-d9fac165e931"
      },
      "source": [
        "#K-meansクラスタリングをおこなう\n",
        "kmeans_model = KMeans(n_clusters=2, random_state=10).fit(cust_array)\n",
        "#分類先となったラベルを取得する\n",
        "labels = kmeans_model.labels_\n",
        "\n",
        "#提案手法による近似アルゴリズムで取得する\n",
        "bests_split = optimal_threshold_2means(cust_array)\n",
        "approx_labels = clustering_2means_by_tree(bests_split,cust_array)\n",
        "print(bests_split)"
      ],
      "execution_count": 7,
      "outputs": [
        {
          "output_type": "stream",
          "text": [
            "{'cost': 41288343652.5358, 'coordinate': 2, 'threshold': 16483}\n"
          ],
          "name": "stdout"
        }
      ]
    },
    {
      "cell_type": "code",
      "metadata": {
        "id": "CT-5ZyGP6aly",
        "colab_type": "code",
        "colab": {
          "base_uri": "https://localhost:8080/",
          "height": 68
        },
        "outputId": "d7645f6f-6dd9-4417-bafa-028839710222"
      },
      "source": [
        "approx_score(approx_labels,kmeans_model,cust_array) #近似アルゴリズムのコスト ➗ k-meansのコスト"
      ],
      "execution_count": 8,
      "outputs": [
        {
          "output_type": "stream",
          "text": [
            "132340344661.33641\n",
            "135777624164.53575\n"
          ],
          "name": "stdout"
        },
        {
          "output_type": "execute_result",
          "data": {
            "text/plain": [
              "1.0259730281948067"
            ]
          },
          "metadata": {
            "tags": []
          },
          "execution_count": 8
        }
      ]
    },
    {
      "cell_type": "markdown",
      "metadata": {
        "id": "mKb_viSO6e53",
        "colab_type": "text"
      },
      "source": [
        "<br><br>\n",
        "## IMM Algorithm\n",
        "I'm working on this...."
      ]
    },
    {
      "cell_type": "markdown",
      "metadata": {
        "id": "uayor9-46g6H",
        "colab_type": "text"
      },
      "source": [
        "## Define funcs\n",
        "I did not create Class of their algorithm, so this is a little experiment for me."
      ]
    },
    {
      "cell_type": "code",
      "metadata": {
        "id": "ssapF7ca6cIQ",
        "colab_type": "code",
        "colab": {}
      },
      "source": [
        "class TreeNode:\n",
        "    def __init__(self, cluster=None, left=None, right=None,condition=None):\n",
        "        self.cluster = cluster\n",
        "        self.left = left\n",
        "        self.right = right \n",
        "        self.condition = (0,0) #(i,threshold) x_i <= threshold  or  x_i > threshold \n",
        "\n",
        "def minimum_center(i,labels,centers):\n",
        "    minimum = np.inf\n",
        "    for j in labels:\n",
        "        minimum = min(minimum, centers[j][i])\n",
        "    return minimum\n",
        "\n",
        "def maximum_center(i,labels,centers):\n",
        "    maximum = -np.inf\n",
        "    for j in labels:\n",
        "        maximum = max(maximum, centers[j][i])\n",
        "    return maximum  \n",
        "\n",
        "def mistake(x,center,i,threshold):\n",
        "    return 0 if ((x[i]<=threshold) == (center[i]<=threshold)) else 1\n",
        "\n",
        "def delete_mistakes_data(X,labels,centers,i,threshold):\n",
        "    new_data = []\n",
        "    new_labels=[]\n",
        "    for idx,x in enumerate(X):\n",
        "        if(mistake(x,centers[labels[idx]],i,threshold)==0):\n",
        "            new_data.append(x)\n",
        "            new_labels.append(labels[idx])\n",
        "    return np.array(new_data),np.array(new_labels)\n",
        "    \n",
        "def make_next_data(X,labels,i,threshold):\n",
        "    l_data=[]\n",
        "    l_labels=[]\n",
        "    r_data=[]\n",
        "    r_labels=[]\n",
        "    for idx,x in enumerate(X):\n",
        "        if(x[i]<=threshold):\n",
        "            l_data.append(x)\n",
        "            l_labels.append(labels[idx])\n",
        "        else:\n",
        "            r_data.append(x)\n",
        "            r_labels.append(labels[idx])\n",
        "            \n",
        "    return np.array(l_data),np.array(l_labels),np.array(r_data),np.array(r_labels)\n",
        "\n",
        "def count_mistakes(X,l,i,labels,centers):\n",
        "    cnt=0\n",
        "    for idx,x in enumerate(X):\n",
        "        if(mistake(x,centers[labels[idx]],i,l[i])==1):\n",
        "            cnt+=1\n",
        "    return cnt\n",
        "\n",
        "def get_best_splits(X,l,r,labels,centers):\n",
        "    bests_split = {'mistake':np.inf,'coordinate':None,'threshold':None}\n",
        "    data_dimentions = X.shape[1]\n",
        "    \n",
        "    for i in range(data_dimentions):\n",
        "        ith_sorted_X = X[X[:,i].argsort(), :]\n",
        "        ith_sorted_centers = centers[centers[:,i].argsort(), :]\n",
        "        idx_center = 1\n",
        "        cnt_mistakes = count_mistakes(X,l,i,labels,centers)\n",
        "        for j,x in enumerate(ith_sorted_X[:-1]):\n",
        "            if(l[i]>x[i] or x[i]>=r[i]):\n",
        "                continue\n",
        "                \n",
        "            cnt_mistakes = count_mistakes(X,x,i,labels,centers) #ここで本来はDPでより効率よく計算すべきだが，やり方がよくわからない．なのでナイーブなやり方でやっている．つまり，全データに対してその分割でmistakeとなるのか否かを調べている\n",
        "            \n",
        "            if bests_split['mistake'] > cnt_mistakes:\n",
        "                bests_split['mistake'] = cnt_mistakes\n",
        "                bests_split['coordinate'] = i\n",
        "                bests_split['threshold'] = x[i]   \n",
        "    print(\"num of mistakes at this node => {}\".format(bests_split['mistake']))\n",
        "    return bests_split['coordinate'],bests_split['threshold']\n",
        "\n",
        "def build_tree(X,labels,centers):\n",
        "    node = TreeNode()\n",
        "    l=[]\n",
        "    r=[]\n",
        "    \n",
        "    #論文疑似コード ２〜４行目\n",
        "    if(len(np.unique(labels))==1):\n",
        "        node.cluster = labels[0]\n",
        "        return node\n",
        "\n",
        "    #論文疑似コード ６〜９行目\n",
        "    for i in range(X.shape[1]):\n",
        "        l.append(minimum_center(i,labels,centers))\n",
        "        r.append(maximum_center(i,labels,centers))\n",
        "\n",
        "    #論文疑似コード 10〜13行目\n",
        "    i,threshold = get_best_splits(X,l,r,labels,centers)\n",
        "    X,labels = delete_mistakes_data(X,labels,centers,i,threshold)\n",
        "    left_data,left_labels,right_data,right_labels = make_next_data(X,labels,i,threshold)\n",
        "    \n",
        "    #論文疑似コード １４〜１６行目\n",
        "    node.condition = (i,threshold)\n",
        "    node.left = build_tree(left_data,left_labels,centers)\n",
        "    node.right = build_tree(right_data,right_labels,centers)\n",
        "    \n",
        "    return node"
      ],
      "execution_count": 110,
      "outputs": []
    },
    {
      "cell_type": "markdown",
      "metadata": {
        "id": "viQyjZlK6ryE",
        "colab_type": "text"
      },
      "source": [
        "<br><br>\n",
        "## First data and k=3"
      ]
    },
    {
      "cell_type": "code",
      "metadata": {
        "id": "lWw2YW_w6jds",
        "colab_type": "code",
        "colab": {
          "base_uri": "https://localhost:8080/",
          "height": 531
        },
        "outputId": "7ee7706d-dd3a-4811-bb00-1f56ded1b1d9"
      },
      "source": [
        "#IMM procedure\n",
        "kmeans_model = KMeans(n_clusters=3, random_state=10).fit(X)\n",
        "centers = kmeans_model.cluster_centers_\n",
        "labels = kmeans_model.labels_\n",
        "root = build_tree(X,labels,centers)\n",
        "make_tree(root,kmeans_model.n_clusters)"
      ],
      "execution_count": 122,
      "outputs": [
        {
          "output_type": "stream",
          "text": [
            "num of mistakes at this node => 1\n",
            "num of mistakes at this node => 2\n"
          ],
          "name": "stdout"
        },
        {
          "output_type": "execute_result",
          "data": {
            "text/plain": [
              "<graphviz.dot.Digraph at 0x7f70fc121748>"
            ],
            "image/svg+xml": "<?xml version=\"1.0\" encoding=\"UTF-8\" standalone=\"no\"?>\n<!DOCTYPE svg PUBLIC \"-//W3C//DTD SVG 1.1//EN\"\n \"http://www.w3.org/Graphics/SVG/1.1/DTD/svg11.dtd\">\n<!-- Generated by graphviz version 2.40.1 (20161225.0304)\n -->\n<!-- Title: %3 Pages: 1 -->\n<svg width=\"177pt\" height=\"357pt\"\n viewBox=\"0.00 0.00 177.29 356.58\" xmlns=\"http://www.w3.org/2000/svg\" xmlns:xlink=\"http://www.w3.org/1999/xlink\">\n<g id=\"graph0\" class=\"graph\" transform=\"scale(1 1) rotate(0) translate(4 352.5813)\">\n<title>%3</title>\n<polygon fill=\"#ffffff\" stroke=\"transparent\" points=\"-4,4 -4,-352.5813 173.2907,-352.5813 173.2907,4 -4,4\"/>\n<!-- 0 -->\n<g id=\"node1\" class=\"node\">\n<title>0</title>\n<ellipse fill=\"none\" stroke=\"#000000\" cx=\"52.6453\" cy=\"-295.936\" rx=\"52.7911\" ry=\"52.7911\"/>\n<text text-anchor=\"middle\" x=\"52.6453\" y=\"-292.236\" font-family=\"Times,serif\" font-size=\"14.00\" fill=\"#000000\">X_0 &lt;= 75</text>\n</g>\n<!-- 1 -->\n<g id=\"node2\" class=\"node\">\n<title>1</title>\n<ellipse fill=\"none\" stroke=\"#000000\" cx=\"27.6453\" cy=\"-139.6453\" rx=\"18\" ry=\"18\"/>\n<text text-anchor=\"middle\" x=\"27.6453\" y=\"-135.9453\" font-family=\"Times,serif\" font-size=\"14.00\" fill=\"#000000\">0</text>\n</g>\n<!-- 0&#45;&gt;1 -->\n<g id=\"edge1\" class=\"edge\">\n<title>0&#45;&gt;1</title>\n<path fill=\"none\" stroke=\"#000000\" d=\"M44.3207,-243.8935C40.2379,-218.3693 35.4837,-188.6477 32.0987,-167.4861\"/>\n<polygon fill=\"#000000\" stroke=\"#000000\" points=\"35.5458,-166.8764 30.5101,-157.5548 28.6336,-167.9821 35.5458,-166.8764\"/>\n<text text-anchor=\"middle\" x=\"55.1453\" y=\"-214.0907\" font-family=\"Times,serif\" font-size=\"14.00\" fill=\"#000000\">True</text>\n</g>\n<!-- 2 -->\n<g id=\"node3\" class=\"node\">\n<title>2</title>\n<ellipse fill=\"none\" stroke=\"#000000\" cx=\"116.6453\" cy=\"-139.6453\" rx=\"52.7911\" ry=\"52.7911\"/>\n<text text-anchor=\"middle\" x=\"116.6453\" y=\"-135.9453\" font-family=\"Times,serif\" font-size=\"14.00\" fill=\"#000000\">X_1 &lt;= 82</text>\n</g>\n<!-- 0&#45;&gt;2 -->\n<g id=\"edge2\" class=\"edge\">\n<title>0&#45;&gt;2</title>\n<path fill=\"none\" stroke=\"#000000\" d=\"M72.7197,-246.9135C79.0937,-231.3479 86.2043,-213.9835 92.8162,-197.8371\"/>\n<polygon fill=\"#000000\" stroke=\"#000000\" points=\"96.0915,-199.0744 96.6422,-188.4939 89.6136,-196.4217 96.0915,-199.0744\"/>\n<text text-anchor=\"middle\" x=\"101.6453\" y=\"-214.0907\" font-family=\"Times,serif\" font-size=\"14.00\" fill=\"#000000\">False</text>\n</g>\n<!-- 3 -->\n<g id=\"node4\" class=\"node\">\n<title>3</title>\n<ellipse fill=\"none\" stroke=\"#000000\" cx=\"89.6453\" cy=\"-18\" rx=\"18\" ry=\"18\"/>\n<text text-anchor=\"middle\" x=\"89.6453\" y=\"-14.3\" font-family=\"Times,serif\" font-size=\"14.00\" fill=\"#000000\">2</text>\n</g>\n<!-- 2&#45;&gt;3 -->\n<g id=\"edge3\" class=\"edge\">\n<title>2&#45;&gt;3</title>\n<path fill=\"none\" stroke=\"#000000\" d=\"M99.6329,-89.4178C97.7314,-82.6106 95.9967,-75.6728 94.6453,-69 93.1571,-61.651 92.1068,-53.6131 91.3674,-46.1365\"/>\n<polygon fill=\"#000000\" stroke=\"#000000\" points=\"94.8465,-45.7403 90.516,-36.0709 87.8714,-46.3304 94.8465,-45.7403\"/>\n<text text-anchor=\"middle\" x=\"108.1453\" y=\"-57.8\" font-family=\"Times,serif\" font-size=\"14.00\" fill=\"#000000\">True</text>\n</g>\n<!-- 4 -->\n<g id=\"node5\" class=\"node\">\n<title>4</title>\n<ellipse fill=\"none\" stroke=\"#000000\" cx=\"143.6453\" cy=\"-18\" rx=\"18\" ry=\"18\"/>\n<text text-anchor=\"middle\" x=\"143.6453\" y=\"-14.3\" font-family=\"Times,serif\" font-size=\"14.00\" fill=\"#000000\">1</text>\n</g>\n<!-- 2&#45;&gt;4 -->\n<g id=\"edge4\" class=\"edge\">\n<title>2&#45;&gt;4</title>\n<path fill=\"none\" stroke=\"#000000\" d=\"M128.0958,-88.0568C131.3296,-73.4869 134.7241,-58.1933 137.5136,-45.6258\"/>\n<polygon fill=\"#000000\" stroke=\"#000000\" points=\"140.9476,-46.3068 139.6976,-35.7859 134.1139,-44.79 140.9476,-46.3068\"/>\n<text text-anchor=\"middle\" x=\"149.6453\" y=\"-57.8\" font-family=\"Times,serif\" font-size=\"14.00\" fill=\"#000000\">False</text>\n</g>\n</g>\n</svg>\n"
          },
          "metadata": {
            "tags": []
          },
          "execution_count": 122
        }
      ]
    },
    {
      "cell_type": "markdown",
      "metadata": {
        "id": "cYEF7HEWKTbj",
        "colab_type": "text"
      },
      "source": [
        "⇩クラスタ0におけるmistakeは1つだけ"
      ]
    },
    {
      "cell_type": "code",
      "metadata": {
        "id": "f9AXdugNJ95V",
        "colab_type": "code",
        "colab": {
          "base_uri": "https://localhost:8080/",
          "height": 34
        },
        "outputId": "2ceb6196-9b12-4973-8016-04914d717d19"
      },
      "source": [
        "labels[X[:,0] <= 75]"
      ],
      "execution_count": 106,
      "outputs": [
        {
          "output_type": "execute_result",
          "data": {
            "text/plain": [
              "array([0, 0, 0, 0, 0, 0, 0, 0, 1, 0, 0, 0], dtype=int32)"
            ]
          },
          "metadata": {
            "tags": []
          },
          "execution_count": 106
        }
      ]
    },
    {
      "cell_type": "markdown",
      "metadata": {
        "id": "PIdjQh4JK4n1",
        "colab_type": "text"
      },
      "source": [
        "⇩クラスタ2におけるmistakeはない(0は考えなくて良い)．"
      ]
    },
    {
      "cell_type": "code",
      "metadata": {
        "id": "MITFO8KkJ6ZA",
        "colab_type": "code",
        "colab": {
          "base_uri": "https://localhost:8080/",
          "height": 34
        },
        "outputId": "d2c4025a-1f2b-442b-b9cb-d218a63d3104"
      },
      "source": [
        "labels[X[:,1] <= 82]"
      ],
      "execution_count": 104,
      "outputs": [
        {
          "output_type": "execute_result",
          "data": {
            "text/plain": [
              "array([2, 2, 2, 0, 2, 0, 0, 0, 2, 0, 2, 2, 2, 2, 2, 2], dtype=int32)"
            ]
          },
          "metadata": {
            "tags": []
          },
          "execution_count": 104
        }
      ]
    },
    {
      "cell_type": "markdown",
      "metadata": {
        "id": "DVWlMj5ELCRt",
        "colab_type": "text"
      },
      "source": [
        "⇩クラスタ1におけるmistakeは2つ"
      ]
    },
    {
      "cell_type": "code",
      "metadata": {
        "id": "Kx0rArMgKNlU",
        "colab_type": "code",
        "colab": {
          "base_uri": "https://localhost:8080/",
          "height": 51
        },
        "outputId": "18ac4f1c-ad77-4fbe-e5ea-39a1868518d6"
      },
      "source": [
        "labels[X[:,1] > 82]"
      ],
      "execution_count": 105,
      "outputs": [
        {
          "output_type": "execute_result",
          "data": {
            "text/plain": [
              "array([1, 1, 0, 1, 1, 1, 1, 0, 1, 1, 1, 0, 2, 1, 0, 0, 2, 1, 1, 1, 0],\n",
              "      dtype=int32)"
            ]
          },
          "metadata": {
            "tags": []
          },
          "execution_count": 105
        }
      ]
    },
    {
      "cell_type": "markdown",
      "metadata": {
        "id": "F_qNy2J16uEP",
        "colab_type": "text"
      },
      "source": [
        "<br><br>\n",
        "## Second data and k=3"
      ]
    },
    {
      "cell_type": "code",
      "metadata": {
        "id": "0ibTR82J6liX",
        "colab_type": "code",
        "colab": {
          "base_uri": "https://localhost:8080/",
          "height": 595
        },
        "outputId": "44d53be8-2fb6-46df-df2b-85feed34fd69"
      },
      "source": [
        "#IMM procedure\n",
        "kmeans_model = KMeans(n_clusters=3, random_state=10).fit(cust_array)\n",
        "centers = kmeans_model.cluster_centers_\n",
        "labels = kmeans_model.labels_\n",
        "\n",
        "root = build_tree(cust_array,labels,centers)\n",
        "make_tree(root,kmeans_model.n_clusters)"
      ],
      "execution_count": 125,
      "outputs": [
        {
          "output_type": "stream",
          "text": [
            "num of mistakes at this node => 8\n",
            "num of mistakes at this node => 11\n"
          ],
          "name": "stdout"
        },
        {
          "output_type": "execute_result",
          "data": {
            "text/plain": [
              "<graphviz.dot.Digraph at 0x7f70fc0f2470>"
            ],
            "image/svg+xml": "<?xml version=\"1.0\" encoding=\"UTF-8\" standalone=\"no\"?>\n<!DOCTYPE svg PUBLIC \"-//W3C//DTD SVG 1.1//EN\"\n \"http://www.w3.org/Graphics/SVG/1.1/DTD/svg11.dtd\">\n<!-- Generated by graphviz version 2.40.1 (20161225.0304)\n -->\n<!-- Title: %3 Pages: 1 -->\n<svg width=\"216pt\" height=\"405pt\"\n viewBox=\"0.00 0.00 216.34 404.68\" xmlns=\"http://www.w3.org/2000/svg\" xmlns:xlink=\"http://www.w3.org/1999/xlink\">\n<g id=\"graph0\" class=\"graph\" transform=\"scale(1 1) rotate(0) translate(4 400.677)\">\n<title>%3</title>\n<polygon fill=\"#ffffff\" stroke=\"transparent\" points=\"-4,4 -4,-400.677 212.3385,-400.677 212.3385,4 -4,4\"/>\n<!-- 0 -->\n<g id=\"node1\" class=\"node\">\n<title>0</title>\n<ellipse fill=\"none\" stroke=\"#000000\" cx=\"61.7445\" cy=\"-334.9325\" rx=\"61.99\" ry=\"61.99\"/>\n<text text-anchor=\"middle\" x=\"61.7445\" y=\"-331.2325\" font-family=\"Times,serif\" font-size=\"14.00\" fill=\"#000000\">X_0 &gt; 20049</text>\n</g>\n<!-- 1 -->\n<g id=\"node2\" class=\"node\">\n<title>1</title>\n<ellipse fill=\"none\" stroke=\"#000000\" cx=\"36.7445\" cy=\"-154.594\" rx=\"18\" ry=\"18\"/>\n<text text-anchor=\"middle\" x=\"36.7445\" y=\"-150.894\" font-family=\"Times,serif\" font-size=\"14.00\" fill=\"#000000\">0</text>\n</g>\n<!-- 0&#45;&gt;1 -->\n<g id=\"edge1\" class=\"edge\">\n<title>0&#45;&gt;1</title>\n<path fill=\"none\" stroke=\"#000000\" d=\"M53.2458,-273.6265C48.9547,-242.6727 43.9604,-206.646 40.5998,-182.4042\"/>\n<polygon fill=\"#000000\" stroke=\"#000000\" points=\"44.0629,-181.8956 39.2228,-172.471 37.1292,-182.8569 44.0629,-181.8956\"/>\n<text text-anchor=\"middle\" x=\"64.2445\" y=\"-243.988\" font-family=\"Times,serif\" font-size=\"14.00\" fill=\"#000000\">True</text>\n</g>\n<!-- 2 -->\n<g id=\"node3\" class=\"node\">\n<title>2</title>\n<ellipse fill=\"none\" stroke=\"#000000\" cx=\"140.7445\" cy=\"-154.594\" rx=\"67.6881\" ry=\"67.6881\"/>\n<text text-anchor=\"middle\" x=\"140.7445\" y=\"-150.894\" font-family=\"Times,serif\" font-size=\"14.00\" fill=\"#000000\">X_1 &lt;= 12220</text>\n</g>\n<!-- 0&#45;&gt;2 -->\n<g id=\"edge2\" class=\"edge\">\n<title>0&#45;&gt;2</title>\n<path fill=\"none\" stroke=\"#000000\" d=\"M86.5239,-278.3671C93.778,-261.8075 101.8052,-243.4834 109.4101,-226.1232\"/>\n<polygon fill=\"#000000\" stroke=\"#000000\" points=\"112.7773,-227.1593 113.584,-216.5952 106.3655,-224.3504 112.7773,-227.1593\"/>\n<text text-anchor=\"middle\" x=\"116.7445\" y=\"-243.988\" font-family=\"Times,serif\" font-size=\"14.00\" fill=\"#000000\">False</text>\n</g>\n<!-- 3 -->\n<g id=\"node4\" class=\"node\">\n<title>3</title>\n<ellipse fill=\"none\" stroke=\"#000000\" cx=\"113.7445\" cy=\"-18\" rx=\"18\" ry=\"18\"/>\n<text text-anchor=\"middle\" x=\"113.7445\" y=\"-14.3\" font-family=\"Times,serif\" font-size=\"14.00\" fill=\"#000000\">2</text>\n</g>\n<!-- 2&#45;&gt;3 -->\n<g id=\"edge3\" class=\"edge\">\n<title>2&#45;&gt;3</title>\n<path fill=\"none\" stroke=\"#000000\" d=\"M122.8843,-89.3943C121.3374,-82.5397 119.9176,-75.6482 118.7445,-69 117.4416,-61.6159 116.4546,-53.566 115.7168,-46.0891\"/>\n<polygon fill=\"#000000\" stroke=\"#000000\" points=\"119.1949,-45.6849 114.8327,-36.0297 112.2217,-46.2978 119.1949,-45.6849\"/>\n<text text-anchor=\"middle\" x=\"132.2445\" y=\"-57.8\" font-family=\"Times,serif\" font-size=\"14.00\" fill=\"#000000\">True</text>\n</g>\n<!-- 4 -->\n<g id=\"node5\" class=\"node\">\n<title>4</title>\n<ellipse fill=\"none\" stroke=\"#000000\" cx=\"167.7445\" cy=\"-18\" rx=\"18\" ry=\"18\"/>\n<text text-anchor=\"middle\" x=\"167.7445\" y=\"-14.3\" font-family=\"Times,serif\" font-size=\"14.00\" fill=\"#000000\">1</text>\n</g>\n<!-- 2&#45;&gt;4 -->\n<g id=\"edge4\" class=\"edge\">\n<title>2&#45;&gt;4</title>\n<path fill=\"none\" stroke=\"#000000\" d=\"M153.9281,-87.8976C156.8685,-73.022 159.8289,-58.0452 162.251,-45.7919\"/>\n<polygon fill=\"#000000\" stroke=\"#000000\" points=\"165.7212,-46.2849 164.2269,-35.796 158.8541,-44.9274 165.7212,-46.2849\"/>\n<text text-anchor=\"middle\" x=\"174.7445\" y=\"-57.8\" font-family=\"Times,serif\" font-size=\"14.00\" fill=\"#000000\">False</text>\n</g>\n</g>\n</svg>\n"
          },
          "metadata": {
            "tags": []
          },
          "execution_count": 125
        }
      ]
    },
    {
      "cell_type": "code",
      "metadata": {
        "id": "glKXXfuVLXV5",
        "colab_type": "code",
        "colab": {
          "base_uri": "https://localhost:8080/",
          "height": 85
        },
        "outputId": "094ea3b0-a475-431a-e503-dfbb9ec9863d"
      },
      "source": [
        "labels[cust_array[:,0] > 20049]"
      ],
      "execution_count": 126,
      "outputs": [
        {
          "output_type": "execute_result",
          "data": {
            "text/plain": [
              "array([0, 0, 0, 0, 0, 1, 0, 0, 0, 0, 0, 0, 0, 1, 0, 0, 1, 2, 0, 1, 0, 0,\n",
              "       0, 0, 0, 0, 0, 0, 0, 1, 0, 0, 0, 1, 0, 0, 0, 0, 0, 0, 0, 0, 0, 0,\n",
              "       0, 0, 0, 0, 0, 0, 0, 0, 0, 0, 0, 0, 0, 0, 0, 0, 0, 0, 0, 0, 0, 0,\n",
              "       0, 0, 0, 0, 0, 0, 0, 0, 0, 0, 0, 0, 0], dtype=int32)"
            ]
          },
          "metadata": {
            "tags": []
          },
          "execution_count": 126
        }
      ]
    },
    {
      "cell_type": "code",
      "metadata": {
        "id": "wpL565elMakS",
        "colab_type": "code",
        "colab": {
          "base_uri": "https://localhost:8080/",
          "height": 340
        },
        "outputId": "781d6476-b9d4-4971-cb85-36f238569359"
      },
      "source": [
        "labels[cust_array[:,1] <= 12220]"
      ],
      "execution_count": 131,
      "outputs": [
        {
          "output_type": "execute_result",
          "data": {
            "text/plain": [
              "array([2, 2, 2, 2, 0, 2, 2, 2, 2, 2, 2, 2, 0, 0, 2, 2, 2, 2, 2, 2, 2, 0,\n",
              "       0, 2, 2, 2, 0, 2, 2, 0, 0, 2, 2, 0, 2, 0, 0, 2, 2, 1, 2, 2, 2, 2,\n",
              "       0, 2, 0, 2, 2, 2, 2, 2, 2, 2, 2, 2, 2, 2, 2, 2, 2, 2, 0, 2, 2, 2,\n",
              "       2, 2, 2, 2, 2, 0, 2, 0, 2, 0, 2, 2, 2, 2, 2, 2, 2, 2, 2, 2, 2, 2,\n",
              "       0, 2, 2, 2, 2, 2, 2, 2, 2, 2, 2, 2, 2, 2, 2, 2, 2, 2, 2, 2, 0, 0,\n",
              "       2, 0, 2, 0, 2, 2, 2, 2, 2, 2, 2, 2, 2, 2, 2, 0, 2, 2, 1, 2, 2, 2,\n",
              "       0, 2, 2, 2, 2, 2, 1, 2, 2, 2, 2, 2, 2, 2, 2, 2, 2, 2, 2, 2, 2, 2,\n",
              "       2, 2, 0, 2, 2, 2, 2, 2, 2, 2, 2, 2, 2, 2, 2, 2, 2, 2, 2, 2, 0, 2,\n",
              "       2, 2, 0, 2, 2, 1, 2, 2, 2, 2, 2, 2, 2, 2, 2, 2, 2, 2, 2, 2, 2, 2,\n",
              "       2, 0, 2, 2, 2, 2, 2, 0, 2, 2, 2, 2, 2, 2, 0, 0, 0, 2, 2, 2, 2, 2,\n",
              "       2, 2, 2, 2, 2, 0, 0, 2, 2, 0, 0, 2, 2, 0, 2, 2, 2, 0, 2, 2, 2, 2,\n",
              "       2, 0, 2, 2, 0, 2, 2, 2, 2, 2, 0, 0, 0, 0, 2, 2, 2, 0, 2, 2, 2, 2,\n",
              "       0, 2, 2, 2, 2, 2, 2, 2, 2, 1, 2, 2, 2, 0, 2, 2, 2, 2, 2, 2, 2, 2,\n",
              "       2, 2, 0, 2, 2, 2, 2, 2, 0, 1, 2, 0, 2, 2, 2, 2, 2, 2, 2, 1, 2, 2,\n",
              "       2, 0, 2, 2, 1, 2, 2, 2, 2, 0, 2, 2, 2, 2, 2, 2, 2, 2, 2, 2, 0, 2,\n",
              "       0, 0, 2, 2, 2, 2, 2, 0, 2, 2, 0, 2, 0, 2, 2, 2, 0, 2, 2, 2, 2, 2,\n",
              "       0, 2, 2, 2, 2, 2, 2, 2, 0, 0, 0, 2, 2, 0, 2, 2, 2, 2, 2, 2, 2, 2,\n",
              "       2, 2, 2, 2, 2, 2, 0, 2, 2, 2, 2, 2, 2, 2, 2, 0, 2, 2, 0, 0, 2, 2],\n",
              "      dtype=int32)"
            ]
          },
          "metadata": {
            "tags": []
          },
          "execution_count": 131
        }
      ]
    },
    {
      "cell_type": "code",
      "metadata": {
        "id": "ScazzrEdMf2B",
        "colab_type": "code",
        "colab": {
          "base_uri": "https://localhost:8080/",
          "height": 68
        },
        "outputId": "499cb3ce-7848-4197-bb43-b1f7d9d9de97"
      },
      "source": [
        "labels[cust_array[:,1] > 12220]"
      ],
      "execution_count": 128,
      "outputs": [
        {
          "output_type": "execute_result",
          "data": {
            "text/plain": [
              "array([0, 1, 1, 1, 1, 1, 1, 1, 1, 1, 1, 1, 1, 1, 1, 1, 0, 1, 1, 1, 0, 1,\n",
              "       1, 1, 1, 1, 1, 1, 2, 1, 1, 2, 1, 1, 2, 1, 0, 1, 1, 2, 1, 1, 0, 1],\n",
              "      dtype=int32)"
            ]
          },
          "metadata": {
            "tags": []
          },
          "execution_count": 128
        }
      ]
    },
    {
      "cell_type": "markdown",
      "metadata": {
        "id": "pM5V20ceM3F6",
        "colab_type": "text"
      },
      "source": [
        "<br><br>\n",
        "func for visualization  \n",
        "sorry for dirty code..."
      ]
    },
    {
      "cell_type": "code",
      "metadata": {
        "id": "QH-P2P-k_g8h",
        "colab_type": "code",
        "colab": {}
      },
      "source": [
        "def make_tree(root,n_clusters):\n",
        "  G = Digraph(format='png')\n",
        "  G.attr('node', shape='circle')\n",
        "  N = 2*n_clusters - 1 #ノード数\n",
        "  \n",
        "  q = queue.Queue()\n",
        "  q.put(root)\n",
        "  if(root.right.cluster != None):\n",
        "    G.node(str(0),\"X_{} > {}\".format(root.condition[0],root.condition[1]))\n",
        "  else:\n",
        "    G.node(str(0),\"X_{} <= {}\".format(root.condition[0],root.condition[1]))\n",
        "  i=1\n",
        "  while not q.empty():\n",
        "    root = q.get()\n",
        "\n",
        "    if root.left.cluster != None and root.right.cluster != None:\n",
        "      G.node(str(i), str(root.left.cluster))\n",
        "      G.edge(str(i-1), str(i),label='True')\n",
        "      G.node(str(i+1), str(root.right.cluster))\n",
        "      G.edge(str(i-1), str(i+1),label='False')      \n",
        "    elif root.right.cluster != None:\n",
        "      G.node(str(i), str(root.right.cluster))\n",
        "      G.edge(str(i-1), str(i),label='True')\n",
        "      G.node(str(i+1),\"X_{} <= {}\".format(root.left.condition[0],root.left.condition[1]))\n",
        "      G.edge(str(i-1), str(i+1),label='False')\n",
        "      q.put(root.left)\n",
        "    else:\n",
        "      G.node(str(i), str(root.left.cluster))\n",
        "      G.edge(str(i-1), str(i),label='True')\n",
        "      G.node(str(i+1),\"X_{} <= {}\".format(root.right.condition[0],root.right.condition[1]))\n",
        "      G.edge(str(i-1), str(i+1),label='False')\n",
        "      q.put(root.right)       \n",
        "    i+=2\n",
        "  return G"
      ],
      "execution_count": 124,
      "outputs": []
    }
  ]
}